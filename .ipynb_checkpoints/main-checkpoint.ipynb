{
 "cells": [
  {
   "cell_type": "code",
   "execution_count": 111,
   "metadata": {},
   "outputs": [],
   "source": [
    "import numpy as np\n",
    "import pandas as pd\n",
    "import os\n",
    "import glob"
   ]
  },
  {
   "cell_type": "markdown",
   "metadata": {},
   "source": [
    "Task 1"
   ]
  },
  {
   "cell_type": "code",
   "execution_count": 112,
   "metadata": {},
   "outputs": [],
   "source": [
    "# extension = 'csv'\n",
    "\n",
    "# all_filenames = [i for i in glob.glob('data/*.{}'.format(extension))]\n",
    "# df = pd.concat([pd.read_csv(f) for f in all_filenames])\n",
    "# df.set_index('Date', inplace=True)\n",
    "# df.sort_index(inplace=True)\n",
    "df1 = pd.read_csv('data/ERCOT_DA_Prices_2016.csv')\n",
    "df2 = pd.read_csv('data/ERCOT_DA_Prices_2017.csv')\n",
    "df3 = pd.read_csv('data/ERCOT_DA_Prices_2018.csv')\n",
    "df4 = pd.read_csv('data/ERCOT_DA_Prices_2019.csv')\n",
    "df = pd.concat([df1, df2, df3, df4])"
   ]
  },
  {
   "cell_type": "code",
   "execution_count": 113,
   "metadata": {},
   "outputs": [
    {
     "data": {
      "text/html": [
       "<div>\n",
       "<style scoped>\n",
       "    .dataframe tbody tr th:only-of-type {\n",
       "        vertical-align: middle;\n",
       "    }\n",
       "\n",
       "    .dataframe tbody tr th {\n",
       "        vertical-align: top;\n",
       "    }\n",
       "\n",
       "    .dataframe thead th {\n",
       "        text-align: right;\n",
       "    }\n",
       "</style>\n",
       "<table border=\"1\" class=\"dataframe\">\n",
       "  <thead>\n",
       "    <tr style=\"text-align: right;\">\n",
       "      <th></th>\n",
       "      <th>Date</th>\n",
       "      <th>SettlementPoint</th>\n",
       "      <th>Price</th>\n",
       "    </tr>\n",
       "  </thead>\n",
       "  <tbody>\n",
       "    <tr>\n",
       "      <th>0</th>\n",
       "      <td>2016-01-01 00:00:00</td>\n",
       "      <td>HB_BUSAVG</td>\n",
       "      <td>18.42</td>\n",
       "    </tr>\n",
       "    <tr>\n",
       "      <th>1</th>\n",
       "      <td>2016-01-01 00:00:00</td>\n",
       "      <td>HB_HOUSTON</td>\n",
       "      <td>18.42</td>\n",
       "    </tr>\n",
       "    <tr>\n",
       "      <th>2</th>\n",
       "      <td>2016-01-01 00:00:00</td>\n",
       "      <td>HB_HUBAVG</td>\n",
       "      <td>18.42</td>\n",
       "    </tr>\n",
       "    <tr>\n",
       "      <th>3</th>\n",
       "      <td>2016-01-01 00:00:00</td>\n",
       "      <td>HB_NORTH</td>\n",
       "      <td>18.43</td>\n",
       "    </tr>\n",
       "    <tr>\n",
       "      <th>4</th>\n",
       "      <td>2016-01-01 00:00:00</td>\n",
       "      <td>HB_SOUTH</td>\n",
       "      <td>18.38</td>\n",
       "    </tr>\n",
       "    <tr>\n",
       "      <th>...</th>\n",
       "      <td>...</td>\n",
       "      <td>...</td>\n",
       "      <td>...</td>\n",
       "    </tr>\n",
       "    <tr>\n",
       "      <th>129101</th>\n",
       "      <td>2019-12-31 23:00:00</td>\n",
       "      <td>LZ_LCRA</td>\n",
       "      <td>14.53</td>\n",
       "    </tr>\n",
       "    <tr>\n",
       "      <th>129102</th>\n",
       "      <td>2019-12-31 23:00:00</td>\n",
       "      <td>LZ_NORTH</td>\n",
       "      <td>14.48</td>\n",
       "    </tr>\n",
       "    <tr>\n",
       "      <th>129103</th>\n",
       "      <td>2019-12-31 23:00:00</td>\n",
       "      <td>LZ_RAYBN</td>\n",
       "      <td>14.48</td>\n",
       "    </tr>\n",
       "    <tr>\n",
       "      <th>129104</th>\n",
       "      <td>2019-12-31 23:00:00</td>\n",
       "      <td>LZ_SOUTH</td>\n",
       "      <td>14.70</td>\n",
       "    </tr>\n",
       "    <tr>\n",
       "      <th>129105</th>\n",
       "      <td>2019-12-31 23:00:00</td>\n",
       "      <td>LZ_WEST</td>\n",
       "      <td>16.78</td>\n",
       "    </tr>\n",
       "  </tbody>\n",
       "</table>\n",
       "<p>497320 rows × 3 columns</p>\n",
       "</div>"
      ],
      "text/plain": [
       "                       Date SettlementPoint  Price\n",
       "0       2016-01-01 00:00:00       HB_BUSAVG  18.42\n",
       "1       2016-01-01 00:00:00      HB_HOUSTON  18.42\n",
       "2       2016-01-01 00:00:00       HB_HUBAVG  18.42\n",
       "3       2016-01-01 00:00:00        HB_NORTH  18.43\n",
       "4       2016-01-01 00:00:00        HB_SOUTH  18.38\n",
       "...                     ...             ...    ...\n",
       "129101  2019-12-31 23:00:00         LZ_LCRA  14.53\n",
       "129102  2019-12-31 23:00:00        LZ_NORTH  14.48\n",
       "129103  2019-12-31 23:00:00        LZ_RAYBN  14.48\n",
       "129104  2019-12-31 23:00:00        LZ_SOUTH  14.70\n",
       "129105  2019-12-31 23:00:00         LZ_WEST  16.78\n",
       "\n",
       "[497320 rows x 3 columns]"
      ]
     },
     "execution_count": 113,
     "metadata": {},
     "output_type": "execute_result"
    }
   ],
   "source": [
    "df"
   ]
  },
  {
   "cell_type": "code",
   "execution_count": null,
   "metadata": {},
   "outputs": [],
   "source": []
  },
  {
   "cell_type": "code",
   "execution_count": null,
   "metadata": {},
   "outputs": [],
   "source": []
  },
  {
   "cell_type": "code",
   "execution_count": 116,
   "metadata": {},
   "outputs": [],
   "source": [
    "df['month'] = pd.to_datetime(df['Date']).dt.month\n",
    "df['year'] = pd.to_datetime(df['Date']).dt.year\n",
    "output = df.groupby(['SettlementPoint','year','month'],as_index=False).mean()"
   ]
  },
  {
   "cell_type": "code",
   "execution_count": 117,
   "metadata": {},
   "outputs": [],
   "source": [
    "output.to_csv ('AveragePriceByMonth.csv', index = None, header=True) "
   ]
  },
  {
   "cell_type": "code",
   "execution_count": null,
   "metadata": {},
   "outputs": [],
   "source": []
  }
 ],
 "metadata": {
  "kernelspec": {
   "display_name": "Python 3",
   "language": "python",
   "name": "python3"
  },
  "language_info": {
   "codemirror_mode": {
    "name": "ipython",
    "version": 3
   },
   "file_extension": ".py",
   "mimetype": "text/x-python",
   "name": "python",
   "nbconvert_exporter": "python",
   "pygments_lexer": "ipython3",
   "version": "3.8.5"
  }
 },
 "nbformat": 4,
 "nbformat_minor": 4
}
